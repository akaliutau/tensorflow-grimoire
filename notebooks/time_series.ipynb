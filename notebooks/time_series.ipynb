{
  "cells": [
    {
      "cell_type": "markdown",
      "metadata": {
        "id": "view-in-github",
        "colab_type": "text"
      },
      "source": [
        "<a href=\"https://colab.research.google.com/github/akaliutau/tensorflow-grimoire/blob/main/notebooks/time_series.ipynb\" target=\"_parent\"><img src=\"https://colab.research.google.com/assets/colab-badge.svg\" alt=\"Open In Colab\"/></a>"
      ]
    },
    {
      "cell_type": "markdown",
      "metadata": {
        "id": "wbAsk2BRxmhC"
      },
      "source": [
        "# Learning the timeseries data"
      ]
    },
    {
      "cell_type": "code",
      "source": [
        "from tensorflow import keras\n",
        "from tensorflow.keras import layers\n",
        "import numpy as np\n",
        "import matplotlib.pyplot as plt\n",
        "import pandas as pd"
      ],
      "metadata": {
        "id": "beQ2P-7IyeuJ"
      },
      "execution_count": 127,
      "outputs": []
    },
    {
      "cell_type": "markdown",
      "metadata": {
        "id": "rtT62EJaxmhE"
      },
      "source": [
        "## A temperature-forecasting example"
      ]
    },
    {
      "cell_type": "code",
      "execution_count": 22,
      "metadata": {
        "colab": {
          "base_uri": "https://localhost:8080/"
        },
        "id": "1xw-XVkgxmhE",
        "outputId": "f7a25360-e0c0-4b56-e006-d598f8c63fd0"
      },
      "outputs": [
        {
          "output_type": "stream",
          "name": "stdout",
          "text": [
            "--2025-01-05 12:08:21--  https://github.com/akaliutau/tensorflow-grimoire/blob/main/data/climate_data.zip?raw=true\n",
            "Resolving github.com (github.com)... 140.82.112.4\n",
            "Connecting to github.com (github.com)|140.82.112.4|:443... connected.\n",
            "HTTP request sent, awaiting response... 302 Found\n",
            "Location: https://github.com/akaliutau/tensorflow-grimoire/raw/refs/heads/main/data/climate_data.zip [following]\n",
            "--2025-01-05 12:08:21--  https://github.com/akaliutau/tensorflow-grimoire/raw/refs/heads/main/data/climate_data.zip\n",
            "Reusing existing connection to github.com:443.\n",
            "HTTP request sent, awaiting response... 302 Found\n",
            "Location: https://raw.githubusercontent.com/akaliutau/tensorflow-grimoire/refs/heads/main/data/climate_data.zip [following]\n",
            "--2025-01-05 12:08:21--  https://raw.githubusercontent.com/akaliutau/tensorflow-grimoire/refs/heads/main/data/climate_data.zip\n",
            "Resolving raw.githubusercontent.com (raw.githubusercontent.com)... 185.199.108.133, 185.199.110.133, 185.199.111.133, ...\n",
            "Connecting to raw.githubusercontent.com (raw.githubusercontent.com)|185.199.108.133|:443... connected.\n",
            "HTTP request sent, awaiting response... 200 OK\n",
            "Length: 138437 (135K) [application/zip]\n",
            "Saving to: ‘climate_data.zip’\n",
            "\n",
            "climate_data.zip    100%[===================>] 135.19K  --.-KB/s    in 0.04s   \n",
            "\n",
            "2025-01-05 12:08:21 (3.73 MB/s) - ‘climate_data.zip’ saved [138437/138437]\n",
            "\n",
            "Archive:  climate_data.zip\n",
            "  inflating: climate_2016.csv        \n"
          ]
        }
      ],
      "source": [
        "!wget -O climate_data.zip https://github.com/akaliutau/tensorflow-grimoire/blob/main/data/climate_data.zip?raw=true\n",
        "!unzip -o climate_data.zip"
      ]
    },
    {
      "cell_type": "markdown",
      "metadata": {
        "id": "SgKoaV3zxmhF"
      },
      "source": [
        "**Inspecting the data of the Jena weather dataset**"
      ]
    },
    {
      "cell_type": "code",
      "execution_count": 23,
      "metadata": {
        "colab": {
          "base_uri": "https://localhost:8080/",
          "height": 224
        },
        "id": "8PnVr07ZxmhG",
        "outputId": "46b2c870-0a3d-4d33-a32c-0da68943b75b"
      },
      "outputs": [
        {
          "output_type": "execute_result",
          "data": {
            "text/plain": [
              "   p (mbar)  T (degC)  Tpot (K)  Tdew (degC)  rh (%)  VPmax (mbar)  \\\n",
              "0    988.67      6.88    280.96         5.94    93.7          9.95   \n",
              "1    988.68      6.51    280.58         5.60    93.9          9.70   \n",
              "2    988.82      6.35    280.41         5.50    94.3          9.59   \n",
              "3    988.87      6.25    280.31         5.48    94.8          9.52   \n",
              "4    988.86      6.18    280.23         5.39    94.7          9.47   \n",
              "\n",
              "   VPact (mbar)  VPdef (mbar)  sh (g/kg)  H2OC (mmol/mol)  rho (g/m**3)  \\\n",
              "0          9.32          0.63       5.88             9.43       1225.48   \n",
              "1          9.10          0.59       5.75             9.21       1227.22   \n",
              "2          9.04          0.55       5.71             9.14       1228.15   \n",
              "3          9.03          0.50       5.70             9.13       1228.62   \n",
              "4          8.97          0.50       5.66             9.07       1228.98   \n",
              "\n",
              "   wv (m/s)  max. wv (m/s)  wd (deg)  \n",
              "0      5.03           6.93     31.22  \n",
              "1      4.11           5.81     25.78  \n",
              "2      3.60           5.57     26.16  \n",
              "3      3.00           4.08     28.61  \n",
              "4      2.95           4.12     25.28  "
            ],
            "text/html": [
              "\n",
              "  <div id=\"df-50b17437-3c57-4292-85f8-cc2f91a29c01\" class=\"colab-df-container\">\n",
              "    <div>\n",
              "<style scoped>\n",
              "    .dataframe tbody tr th:only-of-type {\n",
              "        vertical-align: middle;\n",
              "    }\n",
              "\n",
              "    .dataframe tbody tr th {\n",
              "        vertical-align: top;\n",
              "    }\n",
              "\n",
              "    .dataframe thead th {\n",
              "        text-align: right;\n",
              "    }\n",
              "</style>\n",
              "<table border=\"1\" class=\"dataframe\">\n",
              "  <thead>\n",
              "    <tr style=\"text-align: right;\">\n",
              "      <th></th>\n",
              "      <th>p (mbar)</th>\n",
              "      <th>T (degC)</th>\n",
              "      <th>Tpot (K)</th>\n",
              "      <th>Tdew (degC)</th>\n",
              "      <th>rh (%)</th>\n",
              "      <th>VPmax (mbar)</th>\n",
              "      <th>VPact (mbar)</th>\n",
              "      <th>VPdef (mbar)</th>\n",
              "      <th>sh (g/kg)</th>\n",
              "      <th>H2OC (mmol/mol)</th>\n",
              "      <th>rho (g/m**3)</th>\n",
              "      <th>wv (m/s)</th>\n",
              "      <th>max. wv (m/s)</th>\n",
              "      <th>wd (deg)</th>\n",
              "    </tr>\n",
              "  </thead>\n",
              "  <tbody>\n",
              "    <tr>\n",
              "      <th>0</th>\n",
              "      <td>988.67</td>\n",
              "      <td>6.88</td>\n",
              "      <td>280.96</td>\n",
              "      <td>5.94</td>\n",
              "      <td>93.7</td>\n",
              "      <td>9.95</td>\n",
              "      <td>9.32</td>\n",
              "      <td>0.63</td>\n",
              "      <td>5.88</td>\n",
              "      <td>9.43</td>\n",
              "      <td>1225.48</td>\n",
              "      <td>5.03</td>\n",
              "      <td>6.93</td>\n",
              "      <td>31.22</td>\n",
              "    </tr>\n",
              "    <tr>\n",
              "      <th>1</th>\n",
              "      <td>988.68</td>\n",
              "      <td>6.51</td>\n",
              "      <td>280.58</td>\n",
              "      <td>5.60</td>\n",
              "      <td>93.9</td>\n",
              "      <td>9.70</td>\n",
              "      <td>9.10</td>\n",
              "      <td>0.59</td>\n",
              "      <td>5.75</td>\n",
              "      <td>9.21</td>\n",
              "      <td>1227.22</td>\n",
              "      <td>4.11</td>\n",
              "      <td>5.81</td>\n",
              "      <td>25.78</td>\n",
              "    </tr>\n",
              "    <tr>\n",
              "      <th>2</th>\n",
              "      <td>988.82</td>\n",
              "      <td>6.35</td>\n",
              "      <td>280.41</td>\n",
              "      <td>5.50</td>\n",
              "      <td>94.3</td>\n",
              "      <td>9.59</td>\n",
              "      <td>9.04</td>\n",
              "      <td>0.55</td>\n",
              "      <td>5.71</td>\n",
              "      <td>9.14</td>\n",
              "      <td>1228.15</td>\n",
              "      <td>3.60</td>\n",
              "      <td>5.57</td>\n",
              "      <td>26.16</td>\n",
              "    </tr>\n",
              "    <tr>\n",
              "      <th>3</th>\n",
              "      <td>988.87</td>\n",
              "      <td>6.25</td>\n",
              "      <td>280.31</td>\n",
              "      <td>5.48</td>\n",
              "      <td>94.8</td>\n",
              "      <td>9.52</td>\n",
              "      <td>9.03</td>\n",
              "      <td>0.50</td>\n",
              "      <td>5.70</td>\n",
              "      <td>9.13</td>\n",
              "      <td>1228.62</td>\n",
              "      <td>3.00</td>\n",
              "      <td>4.08</td>\n",
              "      <td>28.61</td>\n",
              "    </tr>\n",
              "    <tr>\n",
              "      <th>4</th>\n",
              "      <td>988.86</td>\n",
              "      <td>6.18</td>\n",
              "      <td>280.23</td>\n",
              "      <td>5.39</td>\n",
              "      <td>94.7</td>\n",
              "      <td>9.47</td>\n",
              "      <td>8.97</td>\n",
              "      <td>0.50</td>\n",
              "      <td>5.66</td>\n",
              "      <td>9.07</td>\n",
              "      <td>1228.98</td>\n",
              "      <td>2.95</td>\n",
              "      <td>4.12</td>\n",
              "      <td>25.28</td>\n",
              "    </tr>\n",
              "  </tbody>\n",
              "</table>\n",
              "</div>\n",
              "    <div class=\"colab-df-buttons\">\n",
              "\n",
              "  <div class=\"colab-df-container\">\n",
              "    <button class=\"colab-df-convert\" onclick=\"convertToInteractive('df-50b17437-3c57-4292-85f8-cc2f91a29c01')\"\n",
              "            title=\"Convert this dataframe to an interactive table.\"\n",
              "            style=\"display:none;\">\n",
              "\n",
              "  <svg xmlns=\"http://www.w3.org/2000/svg\" height=\"24px\" viewBox=\"0 -960 960 960\">\n",
              "    <path d=\"M120-120v-720h720v720H120Zm60-500h600v-160H180v160Zm220 220h160v-160H400v160Zm0 220h160v-160H400v160ZM180-400h160v-160H180v160Zm440 0h160v-160H620v160ZM180-180h160v-160H180v160Zm440 0h160v-160H620v160Z\"/>\n",
              "  </svg>\n",
              "    </button>\n",
              "\n",
              "  <style>\n",
              "    .colab-df-container {\n",
              "      display:flex;\n",
              "      gap: 12px;\n",
              "    }\n",
              "\n",
              "    .colab-df-convert {\n",
              "      background-color: #E8F0FE;\n",
              "      border: none;\n",
              "      border-radius: 50%;\n",
              "      cursor: pointer;\n",
              "      display: none;\n",
              "      fill: #1967D2;\n",
              "      height: 32px;\n",
              "      padding: 0 0 0 0;\n",
              "      width: 32px;\n",
              "    }\n",
              "\n",
              "    .colab-df-convert:hover {\n",
              "      background-color: #E2EBFA;\n",
              "      box-shadow: 0px 1px 2px rgba(60, 64, 67, 0.3), 0px 1px 3px 1px rgba(60, 64, 67, 0.15);\n",
              "      fill: #174EA6;\n",
              "    }\n",
              "\n",
              "    .colab-df-buttons div {\n",
              "      margin-bottom: 4px;\n",
              "    }\n",
              "\n",
              "    [theme=dark] .colab-df-convert {\n",
              "      background-color: #3B4455;\n",
              "      fill: #D2E3FC;\n",
              "    }\n",
              "\n",
              "    [theme=dark] .colab-df-convert:hover {\n",
              "      background-color: #434B5C;\n",
              "      box-shadow: 0px 1px 3px 1px rgba(0, 0, 0, 0.15);\n",
              "      filter: drop-shadow(0px 1px 2px rgba(0, 0, 0, 0.3));\n",
              "      fill: #FFFFFF;\n",
              "    }\n",
              "  </style>\n",
              "\n",
              "    <script>\n",
              "      const buttonEl =\n",
              "        document.querySelector('#df-50b17437-3c57-4292-85f8-cc2f91a29c01 button.colab-df-convert');\n",
              "      buttonEl.style.display =\n",
              "        google.colab.kernel.accessAllowed ? 'block' : 'none';\n",
              "\n",
              "      async function convertToInteractive(key) {\n",
              "        const element = document.querySelector('#df-50b17437-3c57-4292-85f8-cc2f91a29c01');\n",
              "        const dataTable =\n",
              "          await google.colab.kernel.invokeFunction('convertToInteractive',\n",
              "                                                    [key], {});\n",
              "        if (!dataTable) return;\n",
              "\n",
              "        const docLinkHtml = 'Like what you see? Visit the ' +\n",
              "          '<a target=\"_blank\" href=https://colab.research.google.com/notebooks/data_table.ipynb>data table notebook</a>'\n",
              "          + ' to learn more about interactive tables.';\n",
              "        element.innerHTML = '';\n",
              "        dataTable['output_type'] = 'display_data';\n",
              "        await google.colab.output.renderOutput(dataTable, element);\n",
              "        const docLink = document.createElement('div');\n",
              "        docLink.innerHTML = docLinkHtml;\n",
              "        element.appendChild(docLink);\n",
              "      }\n",
              "    </script>\n",
              "  </div>\n",
              "\n",
              "\n",
              "<div id=\"df-b8a538af-572e-4a38-9d00-051a8081994c\">\n",
              "  <button class=\"colab-df-quickchart\" onclick=\"quickchart('df-b8a538af-572e-4a38-9d00-051a8081994c')\"\n",
              "            title=\"Suggest charts\"\n",
              "            style=\"display:none;\">\n",
              "\n",
              "<svg xmlns=\"http://www.w3.org/2000/svg\" height=\"24px\"viewBox=\"0 0 24 24\"\n",
              "     width=\"24px\">\n",
              "    <g>\n",
              "        <path d=\"M19 3H5c-1.1 0-2 .9-2 2v14c0 1.1.9 2 2 2h14c1.1 0 2-.9 2-2V5c0-1.1-.9-2-2-2zM9 17H7v-7h2v7zm4 0h-2V7h2v10zm4 0h-2v-4h2v4z\"/>\n",
              "    </g>\n",
              "</svg>\n",
              "  </button>\n",
              "\n",
              "<style>\n",
              "  .colab-df-quickchart {\n",
              "      --bg-color: #E8F0FE;\n",
              "      --fill-color: #1967D2;\n",
              "      --hover-bg-color: #E2EBFA;\n",
              "      --hover-fill-color: #174EA6;\n",
              "      --disabled-fill-color: #AAA;\n",
              "      --disabled-bg-color: #DDD;\n",
              "  }\n",
              "\n",
              "  [theme=dark] .colab-df-quickchart {\n",
              "      --bg-color: #3B4455;\n",
              "      --fill-color: #D2E3FC;\n",
              "      --hover-bg-color: #434B5C;\n",
              "      --hover-fill-color: #FFFFFF;\n",
              "      --disabled-bg-color: #3B4455;\n",
              "      --disabled-fill-color: #666;\n",
              "  }\n",
              "\n",
              "  .colab-df-quickchart {\n",
              "    background-color: var(--bg-color);\n",
              "    border: none;\n",
              "    border-radius: 50%;\n",
              "    cursor: pointer;\n",
              "    display: none;\n",
              "    fill: var(--fill-color);\n",
              "    height: 32px;\n",
              "    padding: 0;\n",
              "    width: 32px;\n",
              "  }\n",
              "\n",
              "  .colab-df-quickchart:hover {\n",
              "    background-color: var(--hover-bg-color);\n",
              "    box-shadow: 0 1px 2px rgba(60, 64, 67, 0.3), 0 1px 3px 1px rgba(60, 64, 67, 0.15);\n",
              "    fill: var(--button-hover-fill-color);\n",
              "  }\n",
              "\n",
              "  .colab-df-quickchart-complete:disabled,\n",
              "  .colab-df-quickchart-complete:disabled:hover {\n",
              "    background-color: var(--disabled-bg-color);\n",
              "    fill: var(--disabled-fill-color);\n",
              "    box-shadow: none;\n",
              "  }\n",
              "\n",
              "  .colab-df-spinner {\n",
              "    border: 2px solid var(--fill-color);\n",
              "    border-color: transparent;\n",
              "    border-bottom-color: var(--fill-color);\n",
              "    animation:\n",
              "      spin 1s steps(1) infinite;\n",
              "  }\n",
              "\n",
              "  @keyframes spin {\n",
              "    0% {\n",
              "      border-color: transparent;\n",
              "      border-bottom-color: var(--fill-color);\n",
              "      border-left-color: var(--fill-color);\n",
              "    }\n",
              "    20% {\n",
              "      border-color: transparent;\n",
              "      border-left-color: var(--fill-color);\n",
              "      border-top-color: var(--fill-color);\n",
              "    }\n",
              "    30% {\n",
              "      border-color: transparent;\n",
              "      border-left-color: var(--fill-color);\n",
              "      border-top-color: var(--fill-color);\n",
              "      border-right-color: var(--fill-color);\n",
              "    }\n",
              "    40% {\n",
              "      border-color: transparent;\n",
              "      border-right-color: var(--fill-color);\n",
              "      border-top-color: var(--fill-color);\n",
              "    }\n",
              "    60% {\n",
              "      border-color: transparent;\n",
              "      border-right-color: var(--fill-color);\n",
              "    }\n",
              "    80% {\n",
              "      border-color: transparent;\n",
              "      border-right-color: var(--fill-color);\n",
              "      border-bottom-color: var(--fill-color);\n",
              "    }\n",
              "    90% {\n",
              "      border-color: transparent;\n",
              "      border-bottom-color: var(--fill-color);\n",
              "    }\n",
              "  }\n",
              "</style>\n",
              "\n",
              "  <script>\n",
              "    async function quickchart(key) {\n",
              "      const quickchartButtonEl =\n",
              "        document.querySelector('#' + key + ' button');\n",
              "      quickchartButtonEl.disabled = true;  // To prevent multiple clicks.\n",
              "      quickchartButtonEl.classList.add('colab-df-spinner');\n",
              "      try {\n",
              "        const charts = await google.colab.kernel.invokeFunction(\n",
              "            'suggestCharts', [key], {});\n",
              "      } catch (error) {\n",
              "        console.error('Error during call to suggestCharts:', error);\n",
              "      }\n",
              "      quickchartButtonEl.classList.remove('colab-df-spinner');\n",
              "      quickchartButtonEl.classList.add('colab-df-quickchart-complete');\n",
              "    }\n",
              "    (() => {\n",
              "      let quickchartButtonEl =\n",
              "        document.querySelector('#df-b8a538af-572e-4a38-9d00-051a8081994c button');\n",
              "      quickchartButtonEl.style.display =\n",
              "        google.colab.kernel.accessAllowed ? 'block' : 'none';\n",
              "    })();\n",
              "  </script>\n",
              "</div>\n",
              "\n",
              "    </div>\n",
              "  </div>\n"
            ],
            "application/vnd.google.colaboratory.intrinsic+json": {
              "type": "dataframe",
              "variable_name": "df",
              "summary": "{\n  \"name\": \"df\",\n  \"rows\": 4435,\n  \"fields\": [\n    {\n      \"column\": \"p (mbar)\",\n      \"properties\": {\n        \"dtype\": \"number\",\n        \"std\": 9.610377216282114,\n        \"min\": 972.23,\n        \"max\": 1008.52,\n        \"num_unique_values\": 2294,\n        \"samples\": [\n          972.79,\n          1000.59,\n          992.97\n        ],\n        \"semantic_type\": \"\",\n        \"description\": \"\"\n      }\n    },\n    {\n      \"column\": \"T (degC)\",\n      \"properties\": {\n        \"dtype\": \"number\",\n        \"std\": 4.1156922441901145,\n        \"min\": -7.23,\n        \"max\": 13.72,\n        \"num_unique_values\": 1519,\n        \"samples\": [\n          3.7,\n          10.78,\n          -3.73\n        ],\n        \"semantic_type\": \"\",\n        \"description\": \"\"\n      }\n    },\n    {\n      \"column\": \"Tpot (K)\",\n      \"properties\": {\n        \"dtype\": \"number\",\n        \"std\": 4.6279601038131535,\n        \"min\": 265.54,\n        \"max\": 289.17,\n        \"num_unique_values\": 1639,\n        \"samples\": [\n          274.48,\n          267.14,\n          275.74\n        ],\n        \"semantic_type\": \"\",\n        \"description\": \"\"\n      }\n    },\n    {\n      \"column\": \"Tdew (degC)\",\n      \"properties\": {\n        \"dtype\": \"number\",\n        \"std\": 3.7016610415578604,\n        \"min\": -9.19,\n        \"max\": 7.81,\n        \"num_unique_values\": 1348,\n        \"samples\": [\n          5.82,\n          -2.97,\n          -2.92\n        ],\n        \"semantic_type\": \"\",\n        \"description\": \"\"\n      }\n    },\n    {\n      \"column\": \"rh (%)\",\n      \"properties\": {\n        \"dtype\": \"number\",\n        \"std\": 11.78494238236144,\n        \"min\": 38.35,\n        \"max\": 100.0,\n        \"num_unique_values\": 827,\n        \"samples\": [\n          97.0,\n          51.69,\n          81.0\n        ],\n        \"semantic_type\": \"\",\n        \"description\": \"\"\n      }\n    },\n    {\n      \"column\": \"VPmax (mbar)\",\n      \"properties\": {\n        \"dtype\": \"number\",\n        \"std\": 2.3971742072399533,\n        \"min\": 3.54,\n        \"max\": 15.72,\n        \"num_unique_values\": 999,\n        \"samples\": [\n          6.41,\n          8.86,\n          7.82\n        ],\n        \"semantic_type\": \"\",\n        \"description\": \"\"\n      }\n    },\n    {\n      \"column\": \"VPact (mbar)\",\n      \"properties\": {\n        \"dtype\": \"number\",\n        \"std\": 1.7257958840752372,\n        \"min\": 3.04,\n        \"max\": 10.6,\n        \"num_unique_values\": 719,\n        \"samples\": [\n          6.3,\n          7.6,\n          7.9\n        ],\n        \"semantic_type\": \"\",\n        \"description\": \"\"\n      }\n    },\n    {\n      \"column\": \"VPdef (mbar)\",\n      \"properties\": {\n        \"dtype\": \"number\",\n        \"std\": 1.362474436471127,\n        \"min\": 0.0,\n        \"max\": 8.69,\n        \"num_unique_values\": 552,\n        \"samples\": [\n          0.01,\n          2.61,\n          3.85\n        ],\n        \"semantic_type\": \"\",\n        \"description\": \"\"\n      }\n    },\n    {\n      \"column\": \"sh (g/kg)\",\n      \"properties\": {\n        \"dtype\": \"number\",\n        \"std\": 1.1117419506191974,\n        \"min\": 1.88,\n        \"max\": 6.81,\n        \"num_unique_values\": 482,\n        \"samples\": [\n          6.03,\n          1.88,\n          6.46\n        ],\n        \"semantic_type\": \"\",\n        \"description\": \"\"\n      }\n    },\n    {\n      \"column\": \"H2OC (mmol/mol)\",\n      \"properties\": {\n        \"dtype\": \"number\",\n        \"std\": 1.7780737026701374,\n        \"min\": 3.03,\n        \"max\": 10.9,\n        \"num_unique_values\": 738,\n        \"samples\": [\n          6.33,\n          5.03,\n          9.92\n        ],\n        \"semantic_type\": \"\",\n        \"description\": \"\"\n      }\n    },\n    {\n      \"column\": \"rho (g/m**3)\",\n      \"properties\": {\n        \"dtype\": \"number\",\n        \"std\": 28.253444155167855,\n        \"min\": 1176.31,\n        \"max\": 1317.31,\n        \"num_unique_values\": 3468,\n        \"samples\": [\n          1285.72,\n          1239.98,\n          1242.76\n        ],\n        \"semantic_type\": \"\",\n        \"description\": \"\"\n      }\n    },\n    {\n      \"column\": \"wv (m/s)\",\n      \"properties\": {\n        \"dtype\": \"number\",\n        \"std\": 1.5008739794262749,\n        \"min\": 0.13,\n        \"max\": 9.28,\n        \"num_unique_values\": 644,\n        \"samples\": [\n          4.04,\n          4.59,\n          5.35\n        ],\n        \"semantic_type\": \"\",\n        \"description\": \"\"\n      }\n    },\n    {\n      \"column\": \"max. wv (m/s)\",\n      \"properties\": {\n        \"dtype\": \"number\",\n        \"std\": 2.2649142256591994,\n        \"min\": 0.28,\n        \"max\": 15.5,\n        \"num_unique_values\": 522,\n        \"samples\": [\n          12.47,\n          15.34,\n          1.84\n        ],\n        \"semantic_type\": \"\",\n        \"description\": \"\"\n      }\n    },\n    {\n      \"column\": \"wd (deg)\",\n      \"properties\": {\n        \"dtype\": \"number\",\n        \"std\": 74.56327678916135,\n        \"min\": 0.06,\n        \"max\": 359.9,\n        \"num_unique_values\": 2167,\n        \"samples\": [\n          133.4,\n          37.34,\n          150.3\n        ],\n        \"semantic_type\": \"\",\n        \"description\": \"\"\n      }\n    }\n  ]\n}"
            }
          },
          "metadata": {},
          "execution_count": 23
        }
      ],
      "source": [
        "import os\n",
        "fname = os.path.join(\"climate_2016.csv\")\n",
        "\n",
        "df = pd.read_csv(fname)\n",
        "df = df.drop(columns=[\"Date Time\"])\n",
        "df.head()"
      ]
    },
    {
      "cell_type": "markdown",
      "metadata": {
        "id": "FGj8EsxOxmhH"
      },
      "source": [
        "**Parsing the data**"
      ]
    },
    {
      "cell_type": "code",
      "execution_count": 83,
      "metadata": {
        "id": "I81T1NdjxmhH"
      },
      "outputs": [],
      "source": [
        "lines = df.shape[0]\n",
        "cols = df.shape[1]\n",
        "temperature = np.zeros((lines,))\n",
        "raw_data = np.zeros((lines, cols))\n",
        "numpy_array = df.values\n",
        "numpy_array = numpy_array.astype(float)\n",
        "for i, line in enumerate(numpy_array):\n",
        "    temperature[i] = line[1]\n",
        "    raw_data[i, :] = line[:]"
      ]
    },
    {
      "cell_type": "markdown",
      "metadata": {
        "id": "uMC7kM-nxmhI"
      },
      "source": [
        "**Plotting the temperature timeseries**"
      ]
    },
    {
      "cell_type": "code",
      "execution_count": 126,
      "metadata": {
        "colab": {
          "base_uri": "https://localhost:8080/",
          "height": 447
        },
        "id": "1D5aJPlWxmhJ",
        "outputId": "5f27fd5e-6202-47bf-fd37-535313e5b7f1"
      },
      "outputs": [
        {
          "output_type": "execute_result",
          "data": {
            "text/plain": [
              "[<matplotlib.lines.Line2D at 0x7d32ce4491e0>]"
            ]
          },
          "metadata": {},
          "execution_count": 126
        },
        {
          "output_type": "display_data",
          "data": {
            "text/plain": [
              "<Figure size 640x480 with 1 Axes>"
            ],
            "image/png": "[encoded data removed]"
          },
          "metadata": {}
        }
      ],
      "source": [
        "plt.plot(range(lines), temperature)"
      ]
    },
    {
      "cell_type": "markdown",
      "metadata": {
        "id": "L736pT34xmhJ"
      },
      "source": [
        "**Plotting the first 10 days of the temperature timeseries**"
      ]
    },
    {
      "cell_type": "code",
      "execution_count": 85,
      "metadata": {
        "colab": {
          "base_uri": "https://localhost:8080/",
          "height": 447
        },
        "id": "fceFRYj2xmhK",
        "outputId": "1453509f-ff10-4b30-b133-daca158ac2fa"
      },
      "outputs": [
        {
          "output_type": "execute_result",
          "data": {
            "text/plain": [
              "[<matplotlib.lines.Line2D at 0x7d32df7a0430>]"
            ]
          },
          "metadata": {},
          "execution_count": 85
        },
        {
          "output_type": "display_data",
          "data": {
            "text/plain": [
              "<Figure size 640x480 with 1 Axes>"
            ],
            "image/png": "[encoded data removed]"
          },
          "metadata": {}
        }
      ],
      "source": [
        "plt.plot(range(1440), temperature[:1440])"
      ]
    },
    {
      "cell_type": "markdown",
      "metadata": {
        "id": "BFZDc2EkxmhK"
      },
      "source": [
        "**Computing the number of samples we'll use for each data split**"
      ]
    },
    {
      "cell_type": "code",
      "execution_count": 86,
      "metadata": {
        "colab": {
          "base_uri": "https://localhost:8080/"
        },
        "id": "vyhjO8pgxmhL",
        "outputId": "167e68e1-f11f-403a-ac39-0522255f4e1d"
      },
      "outputs": [
        {
          "output_type": "stream",
          "name": "stdout",
          "text": [
            "num_train_samples: 2217\n",
            "num_val_samples: 1108\n",
            "num_test_samples: 1110\n"
          ]
        }
      ],
      "source": [
        "num_train_samples = int(0.5 * len(raw_data))\n",
        "num_val_samples = int(0.25 * len(raw_data))\n",
        "num_test_samples = len(raw_data) - num_train_samples - num_val_samples\n",
        "print(\"num_train_samples:\", num_train_samples)\n",
        "print(\"num_val_samples:\", num_val_samples)\n",
        "print(\"num_test_samples:\", num_test_samples)"
      ]
    },
    {
      "cell_type": "markdown",
      "metadata": {
        "id": "1sXNV51KxmhL"
      },
      "source": [
        "### Preparing the data"
      ]
    },
    {
      "cell_type": "markdown",
      "metadata": {
        "id": "YcxcTTLPxmhL"
      },
      "source": [
        "**Normalizing the data**\n",
        "Note, only feature data is normalized - the target vector was left untouched"
      ]
    },
    {
      "cell_type": "code",
      "execution_count": 87,
      "metadata": {
        "id": "gqaMeaQCxmhL"
      },
      "outputs": [],
      "source": [
        "mean = raw_data[:num_train_samples].mean(axis=0) # mean by columns (axis=0) across all rows\n",
        "raw_data -= mean\n",
        "std = raw_data[:num_train_samples].std(axis=0) # std by columns (axis=0) across all rows\n",
        "raw_data /= std"
      ]
    },
    {
      "cell_type": "markdown",
      "metadata": {
        "id": "F_ZBw3n4xmhL"
      },
      "source": [
        "**Instantiating datasets for training, validation, and testing**\n",
        "\n",
        "We are trying to predict the tempr after 24h of observations, with shift by 1 point on each next prediction"
      ]
    },
    {
      "cell_type": "code",
      "execution_count": 130,
      "metadata": {
        "id": "rmFJ5f7exmhL"
      },
      "outputs": [],
      "source": [
        "sampling_rate = 1     # How much to skip in the input sequence (1 means no skipping)\n",
        "sequence_length = 24   # Length of each input window\n",
        "sequence_stride = 1  # How much to shift each window\n",
        "#delay = sampling_rate * (sequence_length - 1)  # point with offset 144 is the prediction\n",
        "batch_size = 64      # Number of sequences per batch\n",
        "\n",
        "train_dataset = keras.utils.timeseries_dataset_from_array(\n",
        "    raw_data,\n",
        "    targets=temperature,\n",
        "    sampling_rate=sampling_rate,\n",
        "    sequence_length=sequence_length,\n",
        "    sequence_stride=sequence_stride,\n",
        "    shuffle=True,\n",
        "    batch_size=batch_size,\n",
        "    start_index=0,\n",
        "    end_index=num_train_samples)\n",
        "\n",
        "val_dataset = keras.utils.timeseries_dataset_from_array(\n",
        "    raw_data,\n",
        "    targets=temperature,\n",
        "    sampling_rate=sampling_rate,\n",
        "    sequence_length=sequence_length,\n",
        "    sequence_stride=sequence_stride,\n",
        "    shuffle=True,\n",
        "    batch_size=batch_size,\n",
        "    start_index=num_train_samples, # validation data should be from future!\n",
        "    end_index=num_train_samples + num_val_samples)\n",
        "\n",
        "test_dataset = keras.utils.timeseries_dataset_from_array(\n",
        "    raw_data,\n",
        "    targets=temperature,\n",
        "    sampling_rate=sampling_rate,\n",
        "    sequence_length=sequence_length,\n",
        "    sequence_stride=sequence_stride,\n",
        "    shuffle=False,\n",
        "    batch_size=batch_size,\n",
        "    start_index=num_train_samples + num_val_samples)"
      ]
    },
    {
      "cell_type": "code",
      "source": [
        "print(raw_data)\n",
        "print(temperature)\n"
      ],
      "metadata": {
        "colab": {
          "base_uri": "https://localhost:8080/"
        },
        "id": "OWCFIYOTF599",
        "outputId": "395f82c2-a9a9-4311-bbfa-d6aebf933df6"
      },
      "execution_count": 100,
      "outputs": [
        {
          "output_type": "stream",
          "name": "stdout",
          "text": [
            "[[ 0.04503292  1.28538596  1.12213833 ...  2.89457726  2.42154693\n",
            "  -2.09081478]\n",
            " [ 0.04603751  1.16866657  1.01682149 ...  2.05098405  1.72993581\n",
            "  -2.16939078]\n",
            " [ 0.06010175  1.11819332  0.96970606 ...  1.58333998  1.58173343\n",
            "  -2.16390202]\n",
            " ...\n",
            " [ 0.74523094 -0.80294469 -0.87333875 ... -0.32391425 -0.56102601\n",
            "   0.91471725]\n",
            " [ 0.74523094 -0.78401722 -0.85670978 ... -0.20471086 -0.6474774\n",
            "   0.92482813]\n",
            " [ 0.74924929 -0.87865456 -0.94262615 ... -0.20471086 -0.37577303\n",
            "   0.83960784]]\n",
            "[6.88 6.51 6.35 ... 0.26 0.32 0.02]\n"
          ]
        }
      ]
    },
    {
      "cell_type": "code",
      "source": [
        "# Get the first element\n",
        "first_batch = list(train_dataset.take(1))[0]\n",
        "\n",
        "# The first batch is a tuple with shape (inputs, targets) if you provided the target\n",
        "inputs, targets = first_batch\n",
        "print(\"First Input Sequence:\", inputs[0])\n",
        "print(\"First Target Sequence:\", targets[0])\n"
      ],
      "metadata": {
        "colab": {
          "base_uri": "https://localhost:8080/"
        },
        "id": "-UD1DK7D0RKV",
        "outputId": "264dafd2-f87c-4635-a42d-f0ba0751de99"
      },
      "execution_count": 110,
      "outputs": [
        {
          "output_type": "stream",
          "name": "stdout",
          "text": [
            "First Input Sequence: tf.Tensor(\n",
            "[[ 1.04057989 -0.74931686 -0.88996773 -0.9737164  -0.54735875 -0.77878484\n",
            "  -0.97304981  0.13562699 -1.00023223 -0.9982827   1.03676084 -0.25972781\n",
            "  -0.44987423 -1.87039754]\n",
            " [ 1.04158447 -0.74300771 -0.88442474 -1.06431522 -0.72653314 -0.7729954\n",
            "  -1.04640597  0.25587477 -1.06220745 -1.06931233  1.03591346 -0.67235493\n",
            "  -0.83273038 -1.66557995]\n",
            " [ 1.04258906 -0.72723482 -0.87056726 -1.089308   -0.8061662  -0.76141653\n",
            "  -1.0664122   0.32146447 -1.08286586 -1.08868404  1.02659225 -0.96577866\n",
            "  -0.80802998 -1.15512483]\n",
            " [ 1.04057989 -0.68937988 -0.83730931 -1.15803813 -0.99529472 -0.72667992\n",
            "  -1.11976214  0.46357548 -1.13451188 -1.13388471  1.00371292 -0.58066001\n",
            "  -0.42517383  0.03940371]\n",
            " [ 1.0395753  -0.67045241 -0.82068033 -1.27675382 -1.24414803 -0.70931161\n",
            "  -1.21312453  0.64941295 -1.22747472 -1.22428606  0.99396802 -0.32391425\n",
            "  -0.15346946  0.03218165]\n",
            " [ 1.04158447 -0.66414326 -0.81513734 -1.45795146 -1.56268027 -0.70931161\n",
            "  -1.34649937  0.87897689 -1.35142517 -1.35343083  0.99608647  0.01535693\n",
            "   0.74191993 -0.46036277]\n",
            " [ 1.04057989 -0.67360699 -0.82345183 -1.42983459 -1.50295547 -0.71510105\n",
            "  -1.32649315  0.82431881 -1.33076676 -1.33405912  0.99905231  0.07954337\n",
            "   0.04413372 -1.05979365]\n",
            " [ 1.03354777 -0.70515277 -0.85116679 -1.36422855 -1.33373522 -0.73825879\n",
            "  -1.27981195  0.69313942 -1.28944994 -1.28885844  1.01472889  0.18957727\n",
            "  -0.06701807 -1.03234983]\n",
            " [ 1.03354777 -0.72092566 -0.86225277 -1.17053452 -0.96543232 -0.7556271\n",
            "  -1.13309962  0.43078063 -1.14484108 -1.14679919  1.0193895  -0.02132103\n",
            "   0.09353451 -1.79514369]\n",
            " [ 1.03555695 -0.76824433 -0.90659671 -0.95809592 -0.47767983 -0.79615315\n",
            "  -0.95971232  0.08096891 -0.97957382 -0.98536822  1.04523467 -0.2688973\n",
            "  -0.6351272  -2.19149028]\n",
            " [ 1.04057989 -0.79032638 -0.92599718 -0.8674971  -0.25868891 -0.81352145\n",
            "  -0.88635616 -0.08300533 -0.90726939 -0.90788136  1.05964017  0.52884846\n",
            "   0.04413372 -1.87906402]\n",
            " [ 1.04158447 -0.82502674 -0.95648363 -0.82688384 -0.10937692 -0.84246863\n",
            "  -0.85301245 -0.1923215  -0.87628178 -0.87559516  1.08082474  0.52884846\n",
            "  -0.00526708 -2.03361608]\n",
            " [ 1.04158447 -0.8439542  -0.97311261 -0.82375974 -0.06956039 -0.8540475\n",
            "  -0.85301245 -0.22511635 -0.87628178 -0.87559516  1.09184071  0.04286541\n",
            "  -0.20287025 -2.0421381 ]\n",
            " [ 1.04057989 -0.8439542  -0.97311261 -0.83000793 -0.07951453 -0.8540475\n",
            "  -0.85301245 -0.21418473 -0.87628178 -0.8820524   1.09184071  0.28127219\n",
            "  -0.22757065 -2.0151276 ]\n",
            " [ 1.04158447 -0.85341794 -0.9814271  -0.81751154 -0.039698   -0.86562637\n",
            "  -0.84634371 -0.24697958 -0.87628178 -0.86913793  1.09777239  0.75808574\n",
            "   0.39611437 -2.03852708]\n",
            " [ 1.04158447 -0.86919083 -0.99528458 -0.82375974 -0.01978973 -0.87720524\n",
            "  -0.85301245 -0.25791119 -0.87628178 -0.87559516  1.1070936   0.75808574\n",
            "   0.24791199 -1.99981684]\n",
            " [ 1.04158447 -0.86288167 -0.98974158 -0.78314648  0.0498892  -0.87141581\n",
            "  -0.81966874 -0.30163766 -0.84529417 -0.84330897  1.10328038  0.35462812\n",
            "   0.09353451 -1.93236281]\n",
            " [ 1.04861659 -0.87549998 -1.00359906 -0.78002238  0.07975159 -0.88299468\n",
            "  -0.81299999 -0.32350089 -0.84529417 -0.84330897  1.11472004  0.45549253\n",
            "   0.01943332 -2.02711622]\n",
            " [ 1.03857071 -0.8881183  -1.00914206 -0.78314648  0.09965986 -0.88878412\n",
            "  -0.81966874 -0.34536412 -0.84529417 -0.84330897  1.11599112  0.78559422\n",
            "   0.42081477 -1.97352855]\n",
            " [ 1.03756612 -0.87865456 -1.00359906 -0.77065009  0.10961399 -0.88878412\n",
            "  -0.80633125 -0.34536412 -0.83496496 -0.83039449  1.11090682 -0.09467696\n",
            "  -0.10406867 -1.92745181]\n",
            " [ 1.04359365 -0.86603625 -0.99251308 -0.77065009  0.07975159 -0.87141581\n",
            "  -0.80633125 -0.32350089 -0.83496496 -0.83685173  1.10497514  0.0520349\n",
            "  -0.16581966 -1.89451922]\n",
            " [ 1.04359365 -0.85657252 -0.98419859 -0.89561397 -0.18900998 -0.86562637\n",
            "  -0.91303113 -0.13766342 -0.938257   -0.93371031  1.10285669 -0.36976171\n",
            "  -0.6474774  -1.98595049]\n",
            " [ 1.0566533  -0.82187216 -0.95648363 -1.00183328 -0.46772569 -0.8366792\n",
            "  -0.99972478  0.05910568 -1.02089064 -1.01765442  1.09056964 -0.31474476\n",
            "  -0.40047343 -1.91892978]\n",
            " [ 1.06770377 -0.85026336 -0.98419859 -0.88311758 -0.17905585 -0.85983694\n",
            "  -0.89969364 -0.14859503 -0.9279278  -0.92725307  1.11133051 -0.24138883\n",
            "  -0.42517383 -1.98522828]], shape=(24, 14), dtype=float64)\n",
            "First Target Sequence: tf.Tensor(0.43, shape=(), dtype=float64)\n"
          ]
        }
      ]
    },
    {
      "cell_type": "markdown",
      "metadata": {
        "id": "-H-Hnu-ZxmhN"
      },
      "source": [
        "**Inspecting the output of one of our datasets**"
      ]
    },
    {
      "cell_type": "code",
      "execution_count": 66,
      "metadata": {
        "colab": {
          "base_uri": "https://localhost:8080/"
        },
        "id": "ZwNB5nHCxmhN",
        "outputId": "b1e8f1f9-683a-4ff4-b1fb-638deec56dd5"
      },
      "outputs": [
        {
          "output_type": "stream",
          "name": "stdout",
          "text": [
            "samples shape: (64, 24, 14)\n",
            "targets shape: (64,)\n"
          ]
        }
      ],
      "source": [
        "for samples, targets in train_dataset:\n",
        "    print(\"samples shape:\", samples.shape)\n",
        "    print(\"targets shape:\", targets.shape)\n",
        "    break"
      ]
    },
    {
      "cell_type": "markdown",
      "metadata": {
        "id": "9oIOjF_jxmhN"
      },
      "source": [
        "### A common-sense, non-machine-learning baseline"
      ]
    },
    {
      "cell_type": "markdown",
      "metadata": {
        "id": "yg_Ab-3MxmhN"
      },
      "source": [
        "**Computing the common-sense baseline MAE**"
      ]
    },
    {
      "cell_type": "code",
      "execution_count": 90,
      "metadata": {
        "colab": {
          "base_uri": "https://localhost:8080/"
        },
        "id": "Ef2vRLYcxmhO",
        "outputId": "a7e97458-109f-4e87-dc4e-13d78bcdb488"
      },
      "outputs": [
        {
          "output_type": "stream",
          "name": "stdout",
          "text": [
            "Validation MAE: 1.42\n",
            "Test MAE: 1.53\n"
          ]
        }
      ],
      "source": [
        "def evaluate_naive_method(dataset):\n",
        "    total_abs_err = 0.\n",
        "    samples_seen = 0\n",
        "    for samples, targets in dataset:\n",
        "        preds = samples[:, -1, 1] * std[1] + mean[1]\n",
        "        total_abs_err += np.sum(np.abs(preds - targets))\n",
        "        samples_seen += samples.shape[0]\n",
        "    return total_abs_err / samples_seen\n",
        "\n",
        "print(f\"Validation MAE: {evaluate_naive_method(val_dataset):.2f}\")\n",
        "print(f\"Test MAE: {evaluate_naive_method(test_dataset):.2f}\")"
      ]
    },
    {
      "cell_type": "markdown",
      "metadata": {
        "id": "re9GXlGaxmhO"
      },
      "source": [
        "### Non-timeseries simple machine-learning model (alt ML-based baseline)"
      ]
    },
    {
      "cell_type": "code",
      "source": [
        "print(len(list(train_dataset)))\n",
        "print(len(list(val_dataset)))\n",
        "print(len(list(test_dataset)))"
      ],
      "metadata": {
        "colab": {
          "base_uri": "https://localhost:8080/"
        },
        "id": "SybAs648Tydo",
        "outputId": "a70de3b8-e03e-4e5e-fdee-6d74472eb6ba"
      },
      "execution_count": 91,
      "outputs": [
        {
          "output_type": "stream",
          "name": "stdout",
          "text": [
            "35\n",
            "17\n",
            "17\n"
          ]
        }
      ]
    },
    {
      "cell_type": "markdown",
      "metadata": {
        "id": "_eBPMn10xmhO"
      },
      "source": [
        "**Training and evaluating a densely connected model**\n",
        "In this case we are using temperature"
      ]
    },
    {
      "cell_type": "code",
      "execution_count": 108,
      "metadata": {
        "colab": {
          "base_uri": "https://localhost:8080/",
          "height": 272
        },
        "id": "CJh0HiPdxmhP",
        "outputId": "dcee3d8b-bea1-4fa5-b99f-caee9ecc5bb5"
      },
      "outputs": [
        {
          "output_type": "display_data",
          "data": {
            "text/plain": [
              "\u001b[1mModel: \"functional_23\"\u001b[0m\n"
            ],
            "text/html": [
              "<pre style=\"white-space:pre;overflow-x:auto;line-height:normal;font-family:Menlo,'DejaVu Sans Mono',consolas,'Courier New',monospace\"><span style=\"font-weight: bold\">Model: \"functional_23\"</span>\n",
              "</pre>\n"
            ]
          },
          "metadata": {}
        },
        {
          "output_type": "display_data",
          "data": {
            "text/plain": [
              "┏━━━━━━━━━━━━━━━━━━━━━━━━━━━━━━━━━━━━━━┳━━━━━━━━━━━━━━━━━━━━━━━━━━━━━┳━━━━━━━━━━━━━━━━━┓\n",
              "┃\u001b[1m \u001b[0m\u001b[1mLayer (type)                        \u001b[0m\u001b[1m \u001b[0m┃\u001b[1m \u001b[0m\u001b[1mOutput Shape               \u001b[0m\u001b[1m \u001b[0m┃\u001b[1m \u001b[0m\u001b[1m        Param #\u001b[0m\u001b[1m \u001b[0m┃\n",
              "┡━━━━━━━━━━━━━━━━━━━━━━━━━━━━━━━━━━━━━━╇━━━━━━━━━━━━━━━━━━━━━━━━━━━━━╇━━━━━━━━━━━━━━━━━┩\n",
              "│ input_layer_29 (\u001b[38;5;33mInputLayer\u001b[0m)          │ (\u001b[38;5;45mNone\u001b[0m, \u001b[38;5;34m24\u001b[0m, \u001b[38;5;34m14\u001b[0m)              │               \u001b[38;5;34m0\u001b[0m │\n",
              "├──────────────────────────────────────┼─────────────────────────────┼─────────────────┤\n",
              "│ flatten_27 (\u001b[38;5;33mFlatten\u001b[0m)                 │ (\u001b[38;5;45mNone\u001b[0m, \u001b[38;5;34m336\u001b[0m)                 │               \u001b[38;5;34m0\u001b[0m │\n",
              "├──────────────────────────────────────┼─────────────────────────────┼─────────────────┤\n",
              "│ dense_47 (\u001b[38;5;33mDense\u001b[0m)                     │ (\u001b[38;5;45mNone\u001b[0m, \u001b[38;5;34m16\u001b[0m)                  │           \u001b[38;5;34m5,392\u001b[0m │\n",
              "├──────────────────────────────────────┼─────────────────────────────┼─────────────────┤\n",
              "│ dense_48 (\u001b[38;5;33mDense\u001b[0m)                     │ (\u001b[38;5;45mNone\u001b[0m, \u001b[38;5;34m1\u001b[0m)                   │              \u001b[38;5;34m17\u001b[0m │\n",
              "└──────────────────────────────────────┴─────────────────────────────┴─────────────────┘\n"
            ],
            "text/html": [
              "<pre style=\"white-space:pre;overflow-x:auto;line-height:normal;font-family:Menlo,'DejaVu Sans Mono',consolas,'Courier New',monospace\">┏━━━━━━━━━━━━━━━━━━━━━━━━━━━━━━━━━━━━━━┳━━━━━━━━━━━━━━━━━━━━━━━━━━━━━┳━━━━━━━━━━━━━━━━━┓\n",
              "┃<span style=\"font-weight: bold\"> Layer (type)                         </span>┃<span style=\"font-weight: bold\"> Output Shape                </span>┃<span style=\"font-weight: bold\">         Param # </span>┃\n",
              "┡━━━━━━━━━━━━━━━━━━━━━━━━━━━━━━━━━━━━━━╇━━━━━━━━━━━━━━━━━━━━━━━━━━━━━╇━━━━━━━━━━━━━━━━━┩\n",
              "│ input_layer_29 (<span style=\"color: #0087ff; text-decoration-color: #0087ff\">InputLayer</span>)          │ (<span style=\"color: #00d7ff; text-decoration-color: #00d7ff\">None</span>, <span style=\"color: #00af00; text-decoration-color: #00af00\">24</span>, <span style=\"color: #00af00; text-decoration-color: #00af00\">14</span>)              │               <span style=\"color: #00af00; text-decoration-color: #00af00\">0</span> │\n",
              "├──────────────────────────────────────┼─────────────────────────────┼─────────────────┤\n",
              "│ flatten_27 (<span style=\"color: #0087ff; text-decoration-color: #0087ff\">Flatten</span>)                 │ (<span style=\"color: #00d7ff; text-decoration-color: #00d7ff\">None</span>, <span style=\"color: #00af00; text-decoration-color: #00af00\">336</span>)                 │               <span style=\"color: #00af00; text-decoration-color: #00af00\">0</span> │\n",
              "├──────────────────────────────────────┼─────────────────────────────┼─────────────────┤\n",
              "│ dense_47 (<span style=\"color: #0087ff; text-decoration-color: #0087ff\">Dense</span>)                     │ (<span style=\"color: #00d7ff; text-decoration-color: #00d7ff\">None</span>, <span style=\"color: #00af00; text-decoration-color: #00af00\">16</span>)                  │           <span style=\"color: #00af00; text-decoration-color: #00af00\">5,392</span> │\n",
              "├──────────────────────────────────────┼─────────────────────────────┼─────────────────┤\n",
              "│ dense_48 (<span style=\"color: #0087ff; text-decoration-color: #0087ff\">Dense</span>)                     │ (<span style=\"color: #00d7ff; text-decoration-color: #00d7ff\">None</span>, <span style=\"color: #00af00; text-decoration-color: #00af00\">1</span>)                   │              <span style=\"color: #00af00; text-decoration-color: #00af00\">17</span> │\n",
              "└──────────────────────────────────────┴─────────────────────────────┴─────────────────┘\n",
              "</pre>\n"
            ]
          },
          "metadata": {}
        },
        {
          "output_type": "display_data",
          "data": {
            "text/plain": [
              "\u001b[1m Total params: \u001b[0m\u001b[38;5;34m5,409\u001b[0m (21.13 KB)\n"
            ],
            "text/html": [
              "<pre style=\"white-space:pre;overflow-x:auto;line-height:normal;font-family:Menlo,'DejaVu Sans Mono',consolas,'Courier New',monospace\"><span style=\"font-weight: bold\"> Total params: </span><span style=\"color: #00af00; text-decoration-color: #00af00\">5,409</span> (21.13 KB)\n",
              "</pre>\n"
            ]
          },
          "metadata": {}
        },
        {
          "output_type": "display_data",
          "data": {
            "text/plain": [
              "\u001b[1m Trainable params: \u001b[0m\u001b[38;5;34m5,409\u001b[0m (21.13 KB)\n"
            ],
            "text/html": [
              "<pre style=\"white-space:pre;overflow-x:auto;line-height:normal;font-family:Menlo,'DejaVu Sans Mono',consolas,'Courier New',monospace\"><span style=\"font-weight: bold\"> Trainable params: </span><span style=\"color: #00af00; text-decoration-color: #00af00\">5,409</span> (21.13 KB)\n",
              "</pre>\n"
            ]
          },
          "metadata": {}
        },
        {
          "output_type": "display_data",
          "data": {
            "text/plain": [
              "\u001b[1m Non-trainable params: \u001b[0m\u001b[38;5;34m0\u001b[0m (0.00 B)\n"
            ],
            "text/html": [
              "<pre style=\"white-space:pre;overflow-x:auto;line-height:normal;font-family:Menlo,'DejaVu Sans Mono',consolas,'Courier New',monospace\"><span style=\"font-weight: bold\"> Non-trainable params: </span><span style=\"color: #00af00; text-decoration-color: #00af00\">0</span> (0.00 B)\n",
              "</pre>\n"
            ]
          },
          "metadata": {}
        }
      ],
      "source": [
        "inputs = keras.Input(shape=(sequence_length, raw_data.shape[-1] )) # input is a block of lines of 14 float values, organized as a block of 24\n",
        "x = layers.Flatten()(inputs)\n",
        "x = layers.Dense(16, activation=\"relu\")(x)\n",
        "y = layers.Dense(1)(x)\n",
        "model = keras.Model(inputs, y)\n",
        "\n",
        "callbacks = [\n",
        "    keras.callbacks.ModelCheckpoint(\"climate_dense.keras\", save_best_only=True)\n",
        "]\n",
        "model.compile(optimizer=\"rmsprop\", loss=\"mse\", metrics=[\"mae\"])\n",
        "model.summary()\n"
      ]
    },
    {
      "cell_type": "code",
      "source": [
        "inputs, targets = first_batch\n",
        "\n",
        "history = model.fit(inputs, targets, epochs=5, batch_size=64, callbacks=callbacks)\n",
        "inputs, targets = list(test_dataset.take(1))[0]\n",
        "\n",
        "print(f\"Test MAE: {model.evaluate(inputs, targets)[1]:.2f}\")"
      ],
      "metadata": {
        "colab": {
          "base_uri": "https://localhost:8080/"
        },
        "id": "I1GmFTHrV4Qp",
        "outputId": "26c9756e-4ceb-4fd8-eadd-c4ecb28e4149"
      },
      "execution_count": 123,
      "outputs": [
        {
          "output_type": "stream",
          "name": "stdout",
          "text": [
            "Epoch 1/5\n",
            "\u001b[1m1/1\u001b[0m \u001b[32m━━━━━━━━━━━━━━━━━━━━\u001b[0m\u001b[37m\u001b[0m \u001b[1m0s\u001b[0m 29ms/step - loss: 0.8383 - mae: 0.7317\n",
            "Epoch 2/5\n",
            "\u001b[1m1/1\u001b[0m \u001b[32m━━━━━━━━━━━━━━━━━━━━\u001b[0m\u001b[37m\u001b[0m \u001b[1m0s\u001b[0m 38ms/step - loss: 0.7658 - mae: 0.6884\n",
            "Epoch 3/5\n",
            "\u001b[1m1/1\u001b[0m \u001b[32m━━━━━━━━━━━━━━━━━━━━\u001b[0m\u001b[37m\u001b[0m \u001b[1m0s\u001b[0m 28ms/step - loss: 0.7293 - mae: 0.6565\n",
            "Epoch 4/5\n",
            "\u001b[1m1/1\u001b[0m \u001b[32m━━━━━━━━━━━━━━━━━━━━\u001b[0m\u001b[37m\u001b[0m \u001b[1m0s\u001b[0m 28ms/step - loss: 0.6965 - mae: 0.6501\n",
            "Epoch 5/5\n",
            "\u001b[1m1/1\u001b[0m \u001b[32m━━━━━━━━━━━━━━━━━━━━\u001b[0m\u001b[37m\u001b[0m \u001b[1m0s\u001b[0m 30ms/step - loss: 0.6657 - mae: 0.6244\n",
            "\u001b[1m2/2\u001b[0m \u001b[32m━━━━━━━━━━━━━━━━━━━━\u001b[0m\u001b[37m\u001b[0m \u001b[1m0s\u001b[0m 7ms/step - loss: 3.6662 - mae: 1.4299 \n",
            "Test MAE: 1.42\n"
          ]
        }
      ]
    },
    {
      "cell_type": "markdown",
      "metadata": {
        "id": "Dan0nemLxmhP"
      },
      "source": [
        "**A simple LSTM-based model**"
      ]
    },
    {
      "cell_type": "code",
      "execution_count": 133,
      "metadata": {
        "id": "3diBmrevxmhP",
        "colab": {
          "base_uri": "https://localhost:8080/",
          "height": 620
        },
        "outputId": "57e4ebf9-2d64-400b-d1fc-2b5f3c7c3881"
      },
      "outputs": [
        {
          "output_type": "display_data",
          "data": {
            "text/plain": [
              "\u001b[1mModel: \"functional_25\"\u001b[0m\n"
            ],
            "text/html": [
              "<pre style=\"white-space:pre;overflow-x:auto;line-height:normal;font-family:Menlo,'DejaVu Sans Mono',consolas,'Courier New',monospace\"><span style=\"font-weight: bold\">Model: \"functional_25\"</span>\n",
              "</pre>\n"
            ]
          },
          "metadata": {}
        },
        {
          "output_type": "display_data",
          "data": {
            "text/plain": [
              "┏━━━━━━━━━━━━━━━━━━━━━━━━━━━━━━━━━━━━━━┳━━━━━━━━━━━━━━━━━━━━━━━━━━━━━┳━━━━━━━━━━━━━━━━━┓\n",
              "┃\u001b[1m \u001b[0m\u001b[1mLayer (type)                        \u001b[0m\u001b[1m \u001b[0m┃\u001b[1m \u001b[0m\u001b[1mOutput Shape               \u001b[0m\u001b[1m \u001b[0m┃\u001b[1m \u001b[0m\u001b[1m        Param #\u001b[0m\u001b[1m \u001b[0m┃\n",
              "┡━━━━━━━━━━━━━━━━━━━━━━━━━━━━━━━━━━━━━━╇━━━━━━━━━━━━━━━━━━━━━━━━━━━━━╇━━━━━━━━━━━━━━━━━┩\n",
              "│ input_layer_31 (\u001b[38;5;33mInputLayer\u001b[0m)          │ (\u001b[38;5;45mNone\u001b[0m, \u001b[38;5;34m24\u001b[0m, \u001b[38;5;34m14\u001b[0m)              │               \u001b[38;5;34m0\u001b[0m │\n",
              "├──────────────────────────────────────┼─────────────────────────────┼─────────────────┤\n",
              "│ lstm_1 (\u001b[38;5;33mLSTM\u001b[0m)                        │ (\u001b[38;5;45mNone\u001b[0m, \u001b[38;5;34m16\u001b[0m)                  │           \u001b[38;5;34m1,984\u001b[0m │\n",
              "├──────────────────────────────────────┼─────────────────────────────┼─────────────────┤\n",
              "│ dense_50 (\u001b[38;5;33mDense\u001b[0m)                     │ (\u001b[38;5;45mNone\u001b[0m, \u001b[38;5;34m1\u001b[0m)                   │              \u001b[38;5;34m17\u001b[0m │\n",
              "└──────────────────────────────────────┴─────────────────────────────┴─────────────────┘\n"
            ],
            "text/html": [
              "<pre style=\"white-space:pre;overflow-x:auto;line-height:normal;font-family:Menlo,'DejaVu Sans Mono',consolas,'Courier New',monospace\">┏━━━━━━━━━━━━━━━━━━━━━━━━━━━━━━━━━━━━━━┳━━━━━━━━━━━━━━━━━━━━━━━━━━━━━┳━━━━━━━━━━━━━━━━━┓\n",
              "┃<span style=\"font-weight: bold\"> Layer (type)                         </span>┃<span style=\"font-weight: bold\"> Output Shape                </span>┃<span style=\"font-weight: bold\">         Param # </span>┃\n",
              "┡━━━━━━━━━━━━━━━━━━━━━━━━━━━━━━━━━━━━━━╇━━━━━━━━━━━━━━━━━━━━━━━━━━━━━╇━━━━━━━━━━━━━━━━━┩\n",
              "│ input_layer_31 (<span style=\"color: #0087ff; text-decoration-color: #0087ff\">InputLayer</span>)          │ (<span style=\"color: #00d7ff; text-decoration-color: #00d7ff\">None</span>, <span style=\"color: #00af00; text-decoration-color: #00af00\">24</span>, <span style=\"color: #00af00; text-decoration-color: #00af00\">14</span>)              │               <span style=\"color: #00af00; text-decoration-color: #00af00\">0</span> │\n",
              "├──────────────────────────────────────┼─────────────────────────────┼─────────────────┤\n",
              "│ lstm_1 (<span style=\"color: #0087ff; text-decoration-color: #0087ff\">LSTM</span>)                        │ (<span style=\"color: #00d7ff; text-decoration-color: #00d7ff\">None</span>, <span style=\"color: #00af00; text-decoration-color: #00af00\">16</span>)                  │           <span style=\"color: #00af00; text-decoration-color: #00af00\">1,984</span> │\n",
              "├──────────────────────────────────────┼─────────────────────────────┼─────────────────┤\n",
              "│ dense_50 (<span style=\"color: #0087ff; text-decoration-color: #0087ff\">Dense</span>)                     │ (<span style=\"color: #00d7ff; text-decoration-color: #00d7ff\">None</span>, <span style=\"color: #00af00; text-decoration-color: #00af00\">1</span>)                   │              <span style=\"color: #00af00; text-decoration-color: #00af00\">17</span> │\n",
              "└──────────────────────────────────────┴─────────────────────────────┴─────────────────┘\n",
              "</pre>\n"
            ]
          },
          "metadata": {}
        },
        {
          "output_type": "display_data",
          "data": {
            "text/plain": [
              "\u001b[1m Total params: \u001b[0m\u001b[38;5;34m2,001\u001b[0m (7.82 KB)\n"
            ],
            "text/html": [
              "<pre style=\"white-space:pre;overflow-x:auto;line-height:normal;font-family:Menlo,'DejaVu Sans Mono',consolas,'Courier New',monospace\"><span style=\"font-weight: bold\"> Total params: </span><span style=\"color: #00af00; text-decoration-color: #00af00\">2,001</span> (7.82 KB)\n",
              "</pre>\n"
            ]
          },
          "metadata": {}
        },
        {
          "output_type": "display_data",
          "data": {
            "text/plain": [
              "\u001b[1m Trainable params: \u001b[0m\u001b[38;5;34m2,001\u001b[0m (7.82 KB)\n"
            ],
            "text/html": [
              "<pre style=\"white-space:pre;overflow-x:auto;line-height:normal;font-family:Menlo,'DejaVu Sans Mono',consolas,'Courier New',monospace\"><span style=\"font-weight: bold\"> Trainable params: </span><span style=\"color: #00af00; text-decoration-color: #00af00\">2,001</span> (7.82 KB)\n",
              "</pre>\n"
            ]
          },
          "metadata": {}
        },
        {
          "output_type": "display_data",
          "data": {
            "text/plain": [
              "\u001b[1m Non-trainable params: \u001b[0m\u001b[38;5;34m0\u001b[0m (0.00 B)\n"
            ],
            "text/html": [
              "<pre style=\"white-space:pre;overflow-x:auto;line-height:normal;font-family:Menlo,'DejaVu Sans Mono',consolas,'Courier New',monospace\"><span style=\"font-weight: bold\"> Non-trainable params: </span><span style=\"color: #00af00; text-decoration-color: #00af00\">0</span> (0.00 B)\n",
              "</pre>\n"
            ]
          },
          "metadata": {}
        },
        {
          "output_type": "stream",
          "name": "stdout",
          "text": [
            "Epoch 1/10\n",
            "\u001b[1m35/35\u001b[0m \u001b[32m━━━━━━━━━━━━━━━━━━━━\u001b[0m\u001b[37m\u001b[0m \u001b[1m2s\u001b[0m 28ms/step - loss: 14.7890 - mae: 2.9924 - val_loss: 48.7913 - val_mae: 6.3489\n",
            "Epoch 2/10\n",
            "\u001b[1m35/35\u001b[0m \u001b[32m━━━━━━━━━━━━━━━━━━━━\u001b[0m\u001b[37m\u001b[0m \u001b[1m1s\u001b[0m 23ms/step - loss: 7.3974 - mae: 2.0141 - val_loss: 27.4637 - val_mae: 4.5136\n",
            "Epoch 3/10\n",
            "\u001b[1m35/35\u001b[0m \u001b[32m━━━━━━━━━━━━━━━━━━━━\u001b[0m\u001b[37m\u001b[0m \u001b[1m1s\u001b[0m 22ms/step - loss: 3.8708 - mae: 1.4352 - val_loss: 17.8952 - val_mae: 3.6012\n",
            "Epoch 4/10\n",
            "\u001b[1m35/35\u001b[0m \u001b[32m━━━━━━━━━━━━━━━━━━━━\u001b[0m\u001b[37m\u001b[0m \u001b[1m2s\u001b[0m 43ms/step - loss: 2.2222 - mae: 1.0366 - val_loss: 14.7189 - val_mae: 3.2255\n",
            "Epoch 5/10\n",
            "\u001b[1m35/35\u001b[0m \u001b[32m━━━━━━━━━━━━━━━━━━━━\u001b[0m\u001b[37m\u001b[0m \u001b[1m1s\u001b[0m 33ms/step - loss: 1.8228 - mae: 0.9094 - val_loss: 14.9805 - val_mae: 3.2564\n",
            "Epoch 6/10\n",
            "\u001b[1m35/35\u001b[0m \u001b[32m━━━━━━━━━━━━━━━━━━━━\u001b[0m\u001b[37m\u001b[0m \u001b[1m2s\u001b[0m 22ms/step - loss: 1.5176 - mae: 0.8156 - val_loss: 14.5767 - val_mae: 3.2052\n",
            "Epoch 7/10\n",
            "\u001b[1m35/35\u001b[0m \u001b[32m━━━━━━━━━━━━━━━━━━━━\u001b[0m\u001b[37m\u001b[0m \u001b[1m1s\u001b[0m 21ms/step - loss: 1.2337 - mae: 0.7133 - val_loss: 18.8178 - val_mae: 3.5085\n",
            "Epoch 8/10\n",
            "\u001b[1m35/35\u001b[0m \u001b[32m━━━━━━━━━━━━━━━━━━━━\u001b[0m\u001b[37m\u001b[0m \u001b[1m1s\u001b[0m 22ms/step - loss: 0.8192 - mae: 0.5965 - val_loss: 19.6844 - val_mae: 3.5625\n",
            "Epoch 9/10\n",
            "\u001b[1m35/35\u001b[0m \u001b[32m━━━━━━━━━━━━━━━━━━━━\u001b[0m\u001b[37m\u001b[0m \u001b[1m1s\u001b[0m 22ms/step - loss: 0.6299 - mae: 0.5032 - val_loss: 19.1494 - val_mae: 3.4622\n",
            "Epoch 10/10\n",
            "\u001b[1m35/35\u001b[0m \u001b[32m━━━━━━━━━━━━━━━━━━━━\u001b[0m\u001b[37m\u001b[0m \u001b[1m1s\u001b[0m 23ms/step - loss: 0.4925 - mae: 0.4612 - val_loss: 22.2123 - val_mae: 3.8220\n",
            "\u001b[1m17/17\u001b[0m \u001b[32m━━━━━━━━━━━━━━━━━━━━\u001b[0m\u001b[37m\u001b[0m \u001b[1m1s\u001b[0m 11ms/step - loss: 4.2993 - mae: 1.6861\n",
            "Test MAE: 1.87\n"
          ]
        }
      ],
      "source": [
        "inputs = keras.Input(shape=(sequence_length, raw_data.shape[-1]))\n",
        "x = layers.LSTM(16)(inputs)\n",
        "outputs = layers.Dense(1)(x)\n",
        "model = keras.Model(inputs, outputs)\n",
        "\n",
        "callbacks = [\n",
        "    keras.callbacks.ModelCheckpoint(\"climate_lstm.keras\",\n",
        "                                    save_best_only=True)\n",
        "]\n",
        "model.compile(optimizer=\"rmsprop\", loss=\"mse\", metrics=[\"mae\"])\n",
        "model.summary()\n",
        "history = model.fit(train_dataset,\n",
        "                    epochs=10,\n",
        "                    validation_data=val_dataset,\n",
        "                    callbacks=callbacks)\n",
        "\n",
        "model = keras.models.load_model(\"climate_lstm.keras\")\n",
        "print(f\"Test MAE: {model.evaluate(test_dataset)[1]:.2f}\")"
      ]
    },
    {
      "cell_type": "code",
      "source": [
        "actual_temps = []\n",
        "predicted_temps = []\n",
        "title = \"LSTM\"\n",
        "for input, y_batch in test_dataset.take(int(len(list(test_dataset)))):\n",
        "    y_hat = model.predict(input, verbose=0)  # Get the predictions\n",
        "    actual_temps.extend(y_batch.numpy().flatten())\n",
        "    predicted_temps.extend(y_hat.flatten())\n",
        "\n",
        "plt.figure(figsize=(14, 6)) # Adjust figure size if necessary\n",
        "plt.plot(actual_temps, label=\"Actual Temperature\", marker='.', linestyle='-')\n",
        "plt.plot(predicted_temps, label=\"Predicted Temperature\", marker='.', linestyle='--')\n",
        "\n",
        "plt.xlabel(\"Test Sample Index\")\n",
        "plt.ylabel(\"Temperature\")\n",
        "plt.title(title)\n",
        "plt.legend()\n",
        "plt.grid(True)\n",
        "plt.show()"
      ],
      "metadata": {
        "colab": {
          "base_uri": "https://localhost:8080/",
          "height": 564
        },
        "id": "2eSnN44D57W9",
        "outputId": "8b2faff6-1aba-4c5a-aea8-6aa53357c4ed"
      },
      "execution_count": 134,
      "outputs": [
        {
          "output_type": "display_data",
          "data": {
            "text/plain": [
              "<Figure size 1400x600 with 1 Axes>"
            ],
            "image/png": "[encoded data removed]"
          },
          "metadata": {}
        }
      ]
    },
    {
      "cell_type": "markdown",
      "metadata": {
        "id": "YXfSPiBGxmhP"
      },
      "source": [
        "## Recurrent neural networks"
      ]
    },
    {
      "cell_type": "markdown",
      "metadata": {
        "id": "6KMaQ8tNxmhQ"
      },
      "source": [
        "**Toy model of the simple RNN**"
      ]
    },
    {
      "cell_type": "code",
      "execution_count": 135,
      "metadata": {
        "id": "71ulwHTaxmhR"
      },
      "outputs": [],
      "source": [
        "import numpy as np\n",
        "timesteps = 100\n",
        "input_features = 32\n",
        "output_features = 64\n",
        "inputs = np.random.random((timesteps, input_features))\n",
        "state_t = np.zeros((output_features,))\n",
        "W = np.random.random((output_features, input_features))\n",
        "U = np.random.random((output_features, output_features))\n",
        "b = np.random.random((output_features,))\n",
        "successive_outputs = []\n",
        "for input_t in inputs:\n",
        "    output_t = np.tanh(np.dot(W, input_t) + np.dot(U, state_t) + b)\n",
        "    successive_outputs.append(output_t)\n",
        "    state_t = output_t\n",
        "final_output_sequence = np.stack(successive_outputs, axis=0)"
      ]
    },
    {
      "cell_type": "markdown",
      "metadata": {
        "id": "6sbQLdPjxmhR"
      },
      "source": [
        "### A recurrent layer in Keras"
      ]
    },
    {
      "cell_type": "markdown",
      "metadata": {
        "id": "2GeesE6vxmhR"
      },
      "source": [
        "**An RNN layer that can process sequences of any length**"
      ]
    },
    {
      "cell_type": "code",
      "execution_count": 136,
      "metadata": {
        "id": "uSecm66gxmhR"
      },
      "outputs": [],
      "source": [
        "num_features = 14\n",
        "inputs = keras.Input(shape=(None, num_features))\n",
        "outputs = layers.SimpleRNN(16)(inputs)"
      ]
    },
    {
      "cell_type": "markdown",
      "metadata": {
        "id": "x3NKtJIzxmhR"
      },
      "source": [
        "**An RNN layer that returns only its last output step**"
      ]
    },
    {
      "cell_type": "code",
      "execution_count": 137,
      "metadata": {
        "id": "EvyVNL5NxmhS",
        "colab": {
          "base_uri": "https://localhost:8080/"
        },
        "outputId": "ee82e148-e7fe-457a-e2f6-c1f2a499a872"
      },
      "outputs": [
        {
          "output_type": "stream",
          "name": "stdout",
          "text": [
            "(None, 16)\n"
          ]
        }
      ],
      "source": [
        "num_features = 14\n",
        "steps = 120\n",
        "inputs = keras.Input(shape=(steps, num_features))\n",
        "outputs = layers.SimpleRNN(16, return_sequences=False)(inputs)\n",
        "print(outputs.shape)"
      ]
    },
    {
      "cell_type": "markdown",
      "metadata": {
        "id": "nkdkMXnGxmhS"
      },
      "source": [
        "**An RNN layer that returns its full output sequence**"
      ]
    },
    {
      "cell_type": "code",
      "execution_count": 138,
      "metadata": {
        "id": "fRqRncJ3xmhS",
        "colab": {
          "base_uri": "https://localhost:8080/"
        },
        "outputId": "621b1705-c37d-44d8-c5f8-6827de7408d3"
      },
      "outputs": [
        {
          "output_type": "stream",
          "name": "stdout",
          "text": [
            "(None, 120, 16)\n"
          ]
        }
      ],
      "source": [
        "num_features = 14\n",
        "steps = 120\n",
        "inputs = keras.Input(shape=(steps, num_features))\n",
        "outputs = layers.SimpleRNN(16, return_sequences=True)(inputs)\n",
        "print(outputs.shape)"
      ]
    },
    {
      "cell_type": "markdown",
      "metadata": {
        "id": "EBIJKcf-xmhS"
      },
      "source": [
        "**Stacking RNN layers**"
      ]
    },
    {
      "cell_type": "code",
      "execution_count": 139,
      "metadata": {
        "id": "FTlAZxCFxmhT"
      },
      "outputs": [],
      "source": [
        "inputs = keras.Input(shape=(steps, num_features))\n",
        "x = layers.SimpleRNN(16, return_sequences=True)(inputs)\n",
        "x = layers.SimpleRNN(16, return_sequences=True)(x)\n",
        "outputs = layers.SimpleRNN(16)(x)"
      ]
    },
    {
      "cell_type": "markdown",
      "metadata": {
        "id": "wxhQL5xqxmhT"
      },
      "source": [
        "## Advanced use of recurrent neural networks"
      ]
    },
    {
      "cell_type": "markdown",
      "metadata": {
        "id": "tXdhspqzxmhT"
      },
      "source": [
        "### Using recurrent dropout to fight overfitting"
      ]
    },
    {
      "cell_type": "markdown",
      "metadata": {
        "id": "77mmPrM7xmhU"
      },
      "source": [
        "**Training and evaluating a dropout-regularized LSTM**"
      ]
    },
    {
      "cell_type": "code",
      "execution_count": 140,
      "metadata": {
        "id": "LQiryPeixmhU",
        "colab": {
          "base_uri": "https://localhost:8080/"
        },
        "outputId": "8ac62be4-3de4-4e87-e5a7-740687721d7a"
      },
      "outputs": [
        {
          "output_type": "stream",
          "name": "stdout",
          "text": [
            "Epoch 1/50\n",
            "\u001b[1m35/35\u001b[0m \u001b[32m━━━━━━━━━━━━━━━━━━━━\u001b[0m\u001b[37m\u001b[0m \u001b[1m3s\u001b[0m 44ms/step - loss: 10.0747 - mae: 2.5058 - val_loss: 18.0347 - val_mae: 3.6475\n",
            "Epoch 2/50\n",
            "\u001b[1m35/35\u001b[0m \u001b[32m━━━━━━━━━━━━━━━━━━━━\u001b[0m\u001b[37m\u001b[0m \u001b[1m2s\u001b[0m 37ms/step - loss: 3.7144 - mae: 1.5086 - val_loss: 11.7677 - val_mae: 2.9588\n",
            "Epoch 3/50\n",
            "\u001b[1m35/35\u001b[0m \u001b[32m━━━━━━━━━━━━━━━━━━━━\u001b[0m\u001b[37m\u001b[0m \u001b[1m2s\u001b[0m 25ms/step - loss: 2.8128 - mae: 1.2774 - val_loss: 10.8287 - val_mae: 2.8251\n",
            "Epoch 4/50\n",
            "\u001b[1m35/35\u001b[0m \u001b[32m━━━━━━━━━━━━━━━━━━━━\u001b[0m\u001b[37m\u001b[0m \u001b[1m1s\u001b[0m 26ms/step - loss: 2.5745 - mae: 1.2002 - val_loss: 11.2369 - val_mae: 2.8631\n",
            "Epoch 5/50\n",
            "\u001b[1m35/35\u001b[0m \u001b[32m━━━━━━━━━━━━━━━━━━━━\u001b[0m\u001b[37m\u001b[0m \u001b[1m1s\u001b[0m 25ms/step - loss: 2.1694 - mae: 1.1169 - val_loss: 10.1651 - val_mae: 2.6934\n",
            "Epoch 6/50\n",
            "\u001b[1m35/35\u001b[0m \u001b[32m━━━━━━━━━━━━━━━━━━━━\u001b[0m\u001b[37m\u001b[0m \u001b[1m1s\u001b[0m 26ms/step - loss: 1.9849 - mae: 1.0537 - val_loss: 8.4645 - val_mae: 2.4649\n",
            "Epoch 7/50\n",
            "\u001b[1m35/35\u001b[0m \u001b[32m━━━━━━━━━━━━━━━━━━━━\u001b[0m\u001b[37m\u001b[0m \u001b[1m1s\u001b[0m 23ms/step - loss: 1.7568 - mae: 1.0132 - val_loss: 10.1229 - val_mae: 2.7152\n",
            "Epoch 8/50\n",
            "\u001b[1m35/35\u001b[0m \u001b[32m━━━━━━━━━━━━━━━━━━━━\u001b[0m\u001b[37m\u001b[0m \u001b[1m1s\u001b[0m 24ms/step - loss: 1.7667 - mae: 1.0107 - val_loss: 9.8041 - val_mae: 2.6648\n",
            "Epoch 9/50\n",
            "\u001b[1m35/35\u001b[0m \u001b[32m━━━━━━━━━━━━━━━━━━━━\u001b[0m\u001b[37m\u001b[0m \u001b[1m1s\u001b[0m 24ms/step - loss: 1.7115 - mae: 0.9831 - val_loss: 8.8081 - val_mae: 2.5142\n",
            "Epoch 10/50\n",
            "\u001b[1m35/35\u001b[0m \u001b[32m━━━━━━━━━━━━━━━━━━━━\u001b[0m\u001b[37m\u001b[0m \u001b[1m1s\u001b[0m 25ms/step - loss: 1.5247 - mae: 0.9459 - val_loss: 9.6336 - val_mae: 2.5866\n",
            "Epoch 11/50\n",
            "\u001b[1m35/35\u001b[0m \u001b[32m━━━━━━━━━━━━━━━━━━━━\u001b[0m\u001b[37m\u001b[0m \u001b[1m2s\u001b[0m 47ms/step - loss: 1.5968 - mae: 0.9515 - val_loss: 10.1705 - val_mae: 2.6687\n",
            "Epoch 12/50\n",
            "\u001b[1m35/35\u001b[0m \u001b[32m━━━━━━━━━━━━━━━━━━━━\u001b[0m\u001b[37m\u001b[0m \u001b[1m2s\u001b[0m 45ms/step - loss: 1.4066 - mae: 0.9183 - val_loss: 9.2682 - val_mae: 2.5437\n",
            "Epoch 13/50\n",
            "\u001b[1m35/35\u001b[0m \u001b[32m━━━━━━━━━━━━━━━━━━━━\u001b[0m\u001b[37m\u001b[0m \u001b[1m2s\u001b[0m 26ms/step - loss: 1.4128 - mae: 0.9087 - val_loss: 9.3248 - val_mae: 2.5431\n",
            "Epoch 14/50\n",
            "\u001b[1m35/35\u001b[0m \u001b[32m━━━━━━━━━━━━━━━━━━━━\u001b[0m\u001b[37m\u001b[0m \u001b[1m1s\u001b[0m 25ms/step - loss: 1.3072 - mae: 0.8774 - val_loss: 8.6694 - val_mae: 2.4032\n",
            "Epoch 15/50\n",
            "\u001b[1m35/35\u001b[0m \u001b[32m━━━━━━━━━━━━━━━━━━━━\u001b[0m\u001b[37m\u001b[0m \u001b[1m1s\u001b[0m 25ms/step - loss: 1.2469 - mae: 0.8467 - val_loss: 8.8042 - val_mae: 2.4355\n",
            "Epoch 16/50\n",
            "\u001b[1m35/35\u001b[0m \u001b[32m━━━━━━━━━━━━━━━━━━━━\u001b[0m\u001b[37m\u001b[0m \u001b[1m1s\u001b[0m 25ms/step - loss: 1.2700 - mae: 0.8726 - val_loss: 7.8864 - val_mae: 2.2891\n",
            "Epoch 17/50\n",
            "\u001b[1m35/35\u001b[0m \u001b[32m━━━━━━━━━━━━━━━━━━━━\u001b[0m\u001b[37m\u001b[0m \u001b[1m1s\u001b[0m 24ms/step - loss: 1.3313 - mae: 0.8808 - val_loss: 8.4855 - val_mae: 2.3669\n",
            "Epoch 18/50\n",
            "\u001b[1m35/35\u001b[0m \u001b[32m━━━━━━━━━━━━━━━━━━━━\u001b[0m\u001b[37m\u001b[0m \u001b[1m1s\u001b[0m 24ms/step - loss: 1.3214 - mae: 0.8611 - val_loss: 11.1911 - val_mae: 2.7630\n",
            "Epoch 19/50\n",
            "\u001b[1m35/35\u001b[0m \u001b[32m━━━━━━━━━━━━━━━━━━━━\u001b[0m\u001b[37m\u001b[0m \u001b[1m1s\u001b[0m 27ms/step - loss: 1.2614 - mae: 0.8385 - val_loss: 8.3003 - val_mae: 2.3406\n",
            "Epoch 20/50\n",
            "\u001b[1m35/35\u001b[0m \u001b[32m━━━━━━━━━━━━━━━━━━━━\u001b[0m\u001b[37m\u001b[0m \u001b[1m1s\u001b[0m 25ms/step - loss: 1.1999 - mae: 0.8101 - val_loss: 9.0555 - val_mae: 2.4404\n",
            "Epoch 21/50\n",
            "\u001b[1m35/35\u001b[0m \u001b[32m━━━━━━━━━━━━━━━━━━━━\u001b[0m\u001b[37m\u001b[0m \u001b[1m2s\u001b[0m 41ms/step - loss: 1.2049 - mae: 0.8278 - val_loss: 7.8600 - val_mae: 2.2894\n",
            "Epoch 22/50\n",
            "\u001b[1m35/35\u001b[0m \u001b[32m━━━━━━━━━━━━━━━━━━━━\u001b[0m\u001b[37m\u001b[0m \u001b[1m2s\u001b[0m 29ms/step - loss: 1.0498 - mae: 0.7851 - val_loss: 7.9839 - val_mae: 2.2897\n",
            "Epoch 23/50\n",
            "\u001b[1m35/35\u001b[0m \u001b[32m━━━━━━━━━━━━━━━━━━━━\u001b[0m\u001b[37m\u001b[0m \u001b[1m1s\u001b[0m 24ms/step - loss: 1.1328 - mae: 0.8128 - val_loss: 8.5885 - val_mae: 2.4394\n",
            "Epoch 24/50\n",
            "\u001b[1m35/35\u001b[0m \u001b[32m━━━━━━━━━━━━━━━━━━━━\u001b[0m\u001b[37m\u001b[0m \u001b[1m1s\u001b[0m 24ms/step - loss: 1.0799 - mae: 0.7966 - val_loss: 8.4625 - val_mae: 2.3686\n",
            "Epoch 25/50\n",
            "\u001b[1m35/35\u001b[0m \u001b[32m━━━━━━━━━━━━━━━━━━━━\u001b[0m\u001b[37m\u001b[0m \u001b[1m1s\u001b[0m 25ms/step - loss: 1.1057 - mae: 0.7819 - val_loss: 9.5547 - val_mae: 2.5386\n",
            "Epoch 26/50\n",
            "\u001b[1m35/35\u001b[0m \u001b[32m━━━━━━━━━━━━━━━━━━━━\u001b[0m\u001b[37m\u001b[0m \u001b[1m1s\u001b[0m 24ms/step - loss: 1.0973 - mae: 0.7884 - val_loss: 10.1408 - val_mae: 2.5853\n",
            "Epoch 27/50\n",
            "\u001b[1m35/35\u001b[0m \u001b[32m━━━━━━━━━━━━━━━━━━━━\u001b[0m\u001b[37m\u001b[0m \u001b[1m1s\u001b[0m 24ms/step - loss: 1.0902 - mae: 0.7810 - val_loss: 9.3033 - val_mae: 2.5104\n",
            "Epoch 28/50\n",
            "\u001b[1m35/35\u001b[0m \u001b[32m━━━━━━━━━━━━━━━━━━━━\u001b[0m\u001b[37m\u001b[0m \u001b[1m1s\u001b[0m 26ms/step - loss: 1.0880 - mae: 0.7886 - val_loss: 9.3703 - val_mae: 2.5184\n",
            "Epoch 29/50\n",
            "\u001b[1m35/35\u001b[0m \u001b[32m━━━━━━━━━━━━━━━━━━━━\u001b[0m\u001b[37m\u001b[0m \u001b[1m1s\u001b[0m 25ms/step - loss: 1.0404 - mae: 0.7659 - val_loss: 9.1066 - val_mae: 2.4398\n",
            "Epoch 30/50\n",
            "\u001b[1m35/35\u001b[0m \u001b[32m━━━━━━━━━━━━━━━━━━━━\u001b[0m\u001b[37m\u001b[0m \u001b[1m1s\u001b[0m 25ms/step - loss: 1.0231 - mae: 0.7480 - val_loss: 8.2989 - val_mae: 2.3841\n",
            "Epoch 31/50\n",
            "\u001b[1m35/35\u001b[0m \u001b[32m━━━━━━━━━━━━━━━━━━━━\u001b[0m\u001b[37m\u001b[0m \u001b[1m2s\u001b[0m 38ms/step - loss: 0.9882 - mae: 0.7435 - val_loss: 8.4929 - val_mae: 2.3705\n",
            "Epoch 32/50\n",
            "\u001b[1m35/35\u001b[0m \u001b[32m━━━━━━━━━━━━━━━━━━━━\u001b[0m\u001b[37m\u001b[0m \u001b[1m2s\u001b[0m 26ms/step - loss: 0.9952 - mae: 0.7335 - val_loss: 8.5242 - val_mae: 2.4095\n",
            "Epoch 33/50\n",
            "\u001b[1m35/35\u001b[0m \u001b[32m━━━━━━━━━━━━━━━━━━━━\u001b[0m\u001b[37m\u001b[0m \u001b[1m1s\u001b[0m 26ms/step - loss: 0.8785 - mae: 0.7137 - val_loss: 7.6861 - val_mae: 2.2416\n",
            "Epoch 34/50\n",
            "\u001b[1m35/35\u001b[0m \u001b[32m━━━━━━━━━━━━━━━━━━━━\u001b[0m\u001b[37m\u001b[0m \u001b[1m1s\u001b[0m 25ms/step - loss: 0.9269 - mae: 0.7238 - val_loss: 8.0155 - val_mae: 2.2833\n",
            "Epoch 35/50\n",
            "\u001b[1m35/35\u001b[0m \u001b[32m━━━━━━━━━━━━━━━━━━━━\u001b[0m\u001b[37m\u001b[0m \u001b[1m1s\u001b[0m 25ms/step - loss: 0.9783 - mae: 0.7405 - val_loss: 8.8433 - val_mae: 2.4260\n",
            "Epoch 36/50\n",
            "\u001b[1m35/35\u001b[0m \u001b[32m━━━━━━━━━━━━━━━━━━━━\u001b[0m\u001b[37m\u001b[0m \u001b[1m1s\u001b[0m 24ms/step - loss: 0.9489 - mae: 0.7196 - val_loss: 7.8802 - val_mae: 2.2054\n",
            "Epoch 37/50\n",
            "\u001b[1m35/35\u001b[0m \u001b[32m━━━━━━━━━━━━━━━━━━━━\u001b[0m\u001b[37m\u001b[0m \u001b[1m1s\u001b[0m 25ms/step - loss: 0.9886 - mae: 0.7252 - val_loss: 9.9071 - val_mae: 2.4712\n",
            "Epoch 38/50\n",
            "\u001b[1m35/35\u001b[0m \u001b[32m━━━━━━━━━━━━━━━━━━━━\u001b[0m\u001b[37m\u001b[0m \u001b[1m1s\u001b[0m 24ms/step - loss: 0.9356 - mae: 0.7239 - val_loss: 10.0567 - val_mae: 2.5903\n",
            "Epoch 39/50\n",
            "\u001b[1m35/35\u001b[0m \u001b[32m━━━━━━━━━━━━━━━━━━━━\u001b[0m\u001b[37m\u001b[0m \u001b[1m1s\u001b[0m 25ms/step - loss: 0.9160 - mae: 0.7091 - val_loss: 10.4392 - val_mae: 2.7156\n",
            "Epoch 40/50\n",
            "\u001b[1m35/35\u001b[0m \u001b[32m━━━━━━━━━━━━━━━━━━━━\u001b[0m\u001b[37m\u001b[0m \u001b[1m1s\u001b[0m 25ms/step - loss: 0.9449 - mae: 0.7244 - val_loss: 7.9224 - val_mae: 2.2693\n",
            "Epoch 41/50\n",
            "\u001b[1m35/35\u001b[0m \u001b[32m━━━━━━━━━━━━━━━━━━━━\u001b[0m\u001b[37m\u001b[0m \u001b[1m1s\u001b[0m 30ms/step - loss: 0.9394 - mae: 0.7081 - val_loss: 11.8794 - val_mae: 2.7462\n",
            "Epoch 42/50\n",
            "\u001b[1m35/35\u001b[0m \u001b[32m━━━━━━━━━━━━━━━━━━━━\u001b[0m\u001b[37m\u001b[0m \u001b[1m2s\u001b[0m 47ms/step - loss: 0.9452 - mae: 0.7182 - val_loss: 7.6010 - val_mae: 2.1686\n",
            "Epoch 43/50\n",
            "\u001b[1m35/35\u001b[0m \u001b[32m━━━━━━━━━━━━━━━━━━━━\u001b[0m\u001b[37m\u001b[0m \u001b[1m1s\u001b[0m 38ms/step - loss: 0.9048 - mae: 0.7150 - val_loss: 7.6931 - val_mae: 2.2450\n",
            "Epoch 44/50\n",
            "\u001b[1m35/35\u001b[0m \u001b[32m━━━━━━━━━━━━━━━━━━━━\u001b[0m\u001b[37m\u001b[0m \u001b[1m2s\u001b[0m 24ms/step - loss: 0.8370 - mae: 0.6750 - val_loss: 9.4895 - val_mae: 2.5036\n",
            "Epoch 45/50\n",
            "\u001b[1m35/35\u001b[0m \u001b[32m━━━━━━━━━━━━━━━━━━━━\u001b[0m\u001b[37m\u001b[0m \u001b[1m1s\u001b[0m 25ms/step - loss: 1.0264 - mae: 0.7547 - val_loss: 9.5928 - val_mae: 2.5214\n",
            "Epoch 46/50\n",
            "\u001b[1m35/35\u001b[0m \u001b[32m━━━━━━━━━━━━━━━━━━━━\u001b[0m\u001b[37m\u001b[0m \u001b[1m1s\u001b[0m 25ms/step - loss: 0.8682 - mae: 0.7018 - val_loss: 7.6967 - val_mae: 2.2243\n",
            "Epoch 47/50\n",
            "\u001b[1m35/35\u001b[0m \u001b[32m━━━━━━━━━━━━━━━━━━━━\u001b[0m\u001b[37m\u001b[0m \u001b[1m1s\u001b[0m 24ms/step - loss: 0.7758 - mae: 0.6680 - val_loss: 8.3735 - val_mae: 2.3134\n",
            "Epoch 48/50\n",
            "\u001b[1m35/35\u001b[0m \u001b[32m━━━━━━━━━━━━━━━━━━━━\u001b[0m\u001b[37m\u001b[0m \u001b[1m1s\u001b[0m 26ms/step - loss: 0.9242 - mae: 0.7098 - val_loss: 8.0521 - val_mae: 2.2735\n",
            "Epoch 49/50\n",
            "\u001b[1m35/35\u001b[0m \u001b[32m━━━━━━━━━━━━━━━━━━━━\u001b[0m\u001b[37m\u001b[0m \u001b[1m1s\u001b[0m 26ms/step - loss: 0.8047 - mae: 0.6582 - val_loss: 7.4762 - val_mae: 2.0865\n",
            "Epoch 50/50\n",
            "\u001b[1m35/35\u001b[0m \u001b[32m━━━━━━━━━━━━━━━━━━━━\u001b[0m\u001b[37m\u001b[0m \u001b[1m1s\u001b[0m 25ms/step - loss: 0.8884 - mae: 0.7018 - val_loss: 8.9705 - val_mae: 2.3650\n"
          ]
        }
      ],
      "source": [
        "inputs = keras.Input(shape=(sequence_length, raw_data.shape[-1]))\n",
        "x = layers.LSTM(32, recurrent_dropout=0.25)(inputs)\n",
        "x = layers.Dropout(0.5)(x)\n",
        "outputs = layers.Dense(1)(x)\n",
        "model = keras.Model(inputs, outputs)\n",
        "\n",
        "callbacks = [\n",
        "    keras.callbacks.ModelCheckpoint(\"climate_lstm_dropout.keras\",\n",
        "                                    save_best_only=True)\n",
        "]\n",
        "model.compile(optimizer=\"rmsprop\", loss=\"mse\", metrics=[\"mae\"])\n",
        "history = model.fit(train_dataset,\n",
        "                    epochs=50,\n",
        "                    validation_data=val_dataset,\n",
        "                    callbacks=callbacks)"
      ]
    },
    {
      "cell_type": "code",
      "execution_count": 141,
      "metadata": {
        "id": "GYcsL-igxmhU"
      },
      "outputs": [],
      "source": [
        "inputs = keras.Input(shape=(sequence_length, num_features))\n",
        "x = layers.LSTM(32, recurrent_dropout=0.2, unroll=True)(inputs)"
      ]
    }
  ],
  "metadata": {
    "colab": {
      "provenance": [],
      "gpuType": "T4",
      "include_colab_link": true
    },
    "kernelspec": {
      "display_name": "Python 3",
      "name": "python3"
    },
    "language_info": {
      "codemirror_mode": {
        "name": "ipython",
        "version": 3
      },
      "file_extension": ".py",
      "mimetype": "text/x-python",
      "name": "python",
      "nbconvert_exporter": "python",
      "pygments_lexer": "ipython3",
      "version": "3.7.0"
    },
    "accelerator": "GPU"
  },
  "nbformat": 4,
  "nbformat_minor": 0
}